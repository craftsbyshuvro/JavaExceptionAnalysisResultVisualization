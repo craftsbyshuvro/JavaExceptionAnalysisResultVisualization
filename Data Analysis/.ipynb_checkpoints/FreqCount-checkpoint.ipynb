{
 "cells": [
  {
   "cell_type": "code",
   "execution_count": 15,
   "metadata": {},
   "outputs": [
    {
     "name": "stdout",
     "output_type": "stream",
     "text": [
      "      freq\n",
      "0        [\n",
      "1        \"\n",
      "2        c\n",
      "3        l\n",
      "4        o\n",
      "...    ...\n",
      "51027    t\n",
      "51028    l\n",
      "51029    y\n",
      "51030    \"\n",
      "51031    ]\n",
      "\n",
      "[51032 rows x 1 columns]\n"
     ]
    }
   ],
   "source": [
    "import pandas as pd\n",
    "import matplotlib.pyplot as plt\n",
    "import re\n",
    "import numpy as np\n",
    "from prettytable import PrettyTable\n",
    "import re\n",
    "from pandasql import sqldf\n",
    "import tldextract\n",
    "import requests\n",
    "import validators\n",
    "import glob\n",
    "\n",
    "BASE_DATA_PATH = 'D:/Graduate Seminar/Data/'\n",
    "file = open(BASE_DATA_PATH+'FinallyBlockMethods.txt', \"r\")\n",
    "InvokedMethods= file.read()\n",
    "InvokedMethods = list(InvokedMethods)\n",
    "\n",
    "print(finallyMethods)\n",
    "\n",
    "finallyMethods = pd.DataFrame({'freq': InvokedMethods})\n",
    "\n",
    "\n",
    "\n",
    "# fig, ax = plt.subplots(figsize=(10,7))\n",
    "# ax.set_title(\"Frequently thrown exception type\")\n",
    "# ax.set_xlabel('Frequency')\n",
    "# ax.set_ylabel('Exception Type')\n",
    "# width = 0.75\n",
    "# topthrowException = finallyMethods.freq.value_counts().nlargest(10).sort_values(ascending=True)\n",
    "# ind = np.arange(len(topthrowException))\n",
    "# ax.barh(finallyMethods.index,finallyMethods, width)\n",
    "# for i, v in enumerate(topthrowException):\n",
    "#     ax.text(v + 5, i - .15, str(v),color = 'black')\n",
    "# plt.show()"
   ]
  }
 ],
 "metadata": {
  "kernelspec": {
   "display_name": "Python 3",
   "language": "python",
   "name": "python3"
  },
  "language_info": {
   "codemirror_mode": {
    "name": "ipython",
    "version": 3
   },
   "file_extension": ".py",
   "mimetype": "text/x-python",
   "name": "python",
   "nbconvert_exporter": "python",
   "pygments_lexer": "ipython3",
   "version": "3.8.5"
  }
 },
 "nbformat": 4,
 "nbformat_minor": 4
}
